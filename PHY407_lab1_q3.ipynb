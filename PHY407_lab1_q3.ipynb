{
 "cells": [
  {
   "cell_type": "code",
   "execution_count": 1,
   "metadata": {
    "collapsed": false
   },
   "outputs": [
    {
     "data": {
      "image/png": "[encoded data removed]",
      "text/plain": [
       "<matplotlib.figure.Figure at 0x7f5657626450>"
      ]
     },
     "metadata": {},
     "output_type": "display_data"
    }
   ],
   "source": [
    "#!/usr/bin/env python\n",
    "from __future__ import division\n",
    "from math import *\n",
    "import numpy as np\n",
    "\n",
    "import time\n",
    "\n",
    "import matplotlib.pyplot as plt\n",
    "%matplotlib inline  \n",
    "\n",
    "plt.ion()\n",
    "plt.show()\n",
    "\n",
    "for Z in np.arange(2, 101): # 2 to 200 calculations, slow operation (vectorize?)\n",
    "\n",
    "\tA = np.ones([Z,Z],float)*3.\n",
    "\tB = np.ones([Z,Z],float)*3.\n",
    "\tC = np.zeros([Z,Z],float)\n",
    "\n",
    "\tstartTime1 = time.time()\n",
    "\n",
    "\tfor i in range(Z):\n",
    "\t    for j in range(Z):\n",
    "\t        for k in range(Z):\n",
    "\t            C[i,j] += A[i,k]*B[k,j]\n",
    "\n",
    "\n",
    "\ttime1 = time.time() - startTime1\n",
    "\t#print \"Time for normal matrix multiplication of %sx%s matrix is %s\" % (Z, Z, time1)\n",
    "\n",
    "\t# Now let's time the np.dot function\n",
    "\n",
    "\tstartTime2 = time.time()\n",
    "\n",
    "\tD = np.dot(A, B)\n",
    "\n",
    "\ttime2 = time.time() - startTime2\n",
    "\t#print \"Time for np.dot for %sx%s matrix is %s\" % (Z, Z, time2)\n",
    "\n",
    "\tplt.scatter(Z, time1, color = 'b', label = \"norm\")\n",
    "\tplt.scatter(Z, time2, color = 'r', label = \"npdot\")\n",
    "\n",
    "\tplt.xlabel('Z')\n",
    "\tplt.ylabel('Runtime')\n",
    "\tplt.title('Relationship between Z[2,100] and runtime')\n",
    "\t#time.sleep(0.05)\n",
    "\n",
    "#plt.legend(loc='upper right')"
   ]
  },
  {
   "cell_type": "code",
   "execution_count": null,
   "metadata": {
    "collapsed": true
   },
   "outputs": [],
   "source": []
  }
 ],
 "metadata": {
  "kernelspec": {
   "display_name": "Python 2",
   "language": "python",
   "name": "python2"
  },
  "language_info": {
   "codemirror_mode": {
    "name": "ipython",
    "version": 2
   },
   "file_extension": ".py",
   "mimetype": "text/x-python",
   "name": "python",
   "nbconvert_exporter": "python",
   "pygments_lexer": "ipython2",
   "version": "2.7.8"
  },
  "name": "PHY407_lab1_q3.ipynb"
 },
 "nbformat": 4,
 "nbformat_minor": 0
}
