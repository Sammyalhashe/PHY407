{
 "cells": [
  {
   "cell_type": "code",
   "execution_count": 1,
   "metadata": {
    "collapsed": false
   },
   "outputs": [],
   "source": [
    "#!/usr/bin/env python\n",
    "from __future__ import division\n",
    "from math import *\n",
    "import matplotlib.pyplot as plt\n",
    "%matplotlib inline  \n",
    "import numpy as np\n",
    "from pylab import *"
   ]
  },
  {
   "cell_type": "code",
   "execution_count": null,
   "metadata": {
    "collapsed": true
   },
   "outputs": [],
   "source": [
    "# Now we repeat the previous question! \n",
    "\n",
    "# New parameters\n",
    "xc = 1.152e9 # as shown in the pdf explanation  (in meters)\n",
    "dt = 1.0e-5\n",
    "# Old parameters\n",
    "k = 12.\n",
    "m = 1. # in metres \n",
    "c = 2.998e8\n",
    "ti = 0.\n",
    "tf = 10.\n",
    "\n",
    "time=arange(ti,tf,dt)\n",
    "tlen=len(time)\n",
    "\n",
    "# First we do the example using x_c/10 as the initial displacement\n",
    "\n",
    "x = np.zeros(tlen)\n",
    "v = np.zeros(tlen)\n",
    "\n",
    "# initial conditions\n",
    "\n",
    "x[0] = xc/10.\n",
    "v[0] = 0\n",
    "\n",
    "i = 0\n",
    "\n",
    "# Classical particle, so no relativistic effects, use that system of ODEs\n",
    "while i < tlen-1: \n",
    "    x[i+1] = x[i] + v[i]*dt\n",
    "    v[i+1] = v[i] - k/m*x[i]*dt\n",
    "    i += 1\n",
    "\n",
    "\n",
    "# Now onto the example using x_c as the initial displacement \n",
    "\n",
    "xnew = np.zeros(tlen)\n",
    "vnew = np.zeros(tlen)    \n",
    "    \n",
    "# Different initial conditions \n",
    "\n",
    "xnew[0] = xc\n",
    "vnew[0] = 0\n",
    "\n",
    "\n",
    "# Repeat but instead of i, use different index j \n",
    "j = 0\n",
    "\n",
    "while j < tlen-1: \n",
    "    xnew[j+1] = xnew[j] + vnew[j]*dt\n",
    "    vnew[j+1] = vnew[j] - k/m*xnew[j]*dt\n",
    "    j += 1\n",
    "    \n",
    "f, ((ax1, ax3), (ax2, ax4)) = plt.subplots(2, 2, sharex='row', sharey='col')\n",
    "ax1.plot(time, x, color='springgreen')\n",
    "ax1.set_title('Position: xc/10')\n",
    "\n",
    "ax2.plot(time, xnew, color='darkgreen')\n",
    "ax2.set_title('Position: xc')\n",
    "\n",
    "ax3.plot(time, v, color='khaki')\n",
    "ax3.set_title('Velocity: xc/10')\n",
    "\n",
    "ax4.plot(time, vnew, color='darkgoldenrod')\n",
    "ax4.set_title('Velocity: xc')\n",
    "\n",
    "ax1.set_xlabel('Time')\n",
    "ax2.set_xlabel('Time')\n",
    "ax3.set_xlabel('Time')\n",
    "ax4.set_xlabel('Time')\n",
    "\n",
    "ax1.set_ylabel('Position')\n",
    "ax2.set_ylabel('Position')\n",
    "ax3.set_ylabel('Velocity')\n",
    "ax4.set_ylabel('Velocity')\n",
    "\n",
    "plt.tight_layout()\n",
    "#plt.savefig('new_graphs.png', dpi=4000, bbox_inches=\"tight\")\n",
    "plt.show()"
   ]
  },
  {
   "cell_type": "code",
   "execution_count": null,
   "metadata": {
    "collapsed": true
   },
   "outputs": [],
   "source": [
    "print x[999999] - xnew[999999] # Let the system evolve until the limit (1e6)\n",
    "print v[999999] - vnew[999999] \n",
    "# Pretty big differences here. The only changes I see are the amplitudes. "
   ]
  },
  {
   "cell_type": "code",
   "execution_count": null,
   "metadata": {
    "collapsed": true
   },
   "outputs": [],
   "source": [
    "# Period doesnt change since T = 2pi*sqrt(m/k) and we reuse the I.C."
   ]
  },
  {
   "cell_type": "code",
   "execution_count": null,
   "metadata": {
    "collapsed": true
   },
   "outputs": [],
   "source": [
    "# How does 4xc/c compare to the actual period (around 2 seconds)? \n",
    "# 4x_c/c ~ 15 seconds (This seems weird.)"
   ]
  },
  {
   "cell_type": "code",
   "execution_count": null,
   "metadata": {
    "collapsed": true
   },
   "outputs": [],
   "source": []
  }
 ],
 "metadata": {
  "kernelspec": {
   "display_name": "Python 2",
   "language": "python",
   "name": "python2"
  },
  "language_info": {
   "codemirror_mode": {
    "name": "ipython",
    "version": 2
   },
   "file_extension": ".py",
   "mimetype": "text/x-python",
   "name": "python",
   "nbconvert_exporter": "python",
   "pygments_lexer": "ipython2",
   "version": "2.7.8"
  },
  "name": "PHY407_Lab1_2c.ipynb"
 },
 "nbformat": 4,
 "nbformat_minor": 0
}
